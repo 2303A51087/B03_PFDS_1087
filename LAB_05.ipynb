{
  "nbformat": 4,
  "nbformat_minor": 0,
  "metadata": {
    "colab": {
      "provenance": [],
      "authorship_tag": "ABX9TyNQtHW/yhYFAlsdm4wyRM2P",
      "include_colab_link": true
    },
    "kernelspec": {
      "name": "python3",
      "display_name": "Python 3"
    },
    "language_info": {
      "name": "python"
    }
  },
  "cells": [
    {
      "cell_type": "markdown",
      "metadata": {
        "id": "view-in-github",
        "colab_type": "text"
      },
      "source": [
        "<a href=\"https://colab.research.google.com/github/2303A51087/B03_PFDS_1087/blob/main/LAB_05.ipynb\" target=\"_parent\"><img src=\"https://colab.research.google.com/assets/colab-badge.svg\" alt=\"Open In Colab\"/></a>"
      ]
    },
    {
      "cell_type": "code",
      "execution_count": 1,
      "metadata": {
        "colab": {
          "base_uri": "https://localhost:8080/"
        },
        "id": "nTYMFHpqNriJ",
        "outputId": "408ff4df-819c-47cd-dc5a-32bcf4baf8b7"
      },
      "outputs": [
        {
          "output_type": "stream",
          "name": "stdout",
          "text": [
            "Products Dataset:\n",
            "    product_id product_name     category  price\n",
            "0         101       Laptop  Electronics   1000\n",
            "1         102        Phone  Electronics    600\n",
            "2         103       Tablet  Electronics    300\n",
            "3         104   Headphones  Accessories    100\n",
            "4         105      Charger  Accessories     50 \n",
            "\n",
            "Sales Dataset:\n",
            "    sale_id  product_id  quantity\n",
            "0        1         101         2\n",
            "1        2         102         3\n",
            "2        3         103         5\n",
            "3        4         101         1\n",
            "4        5         104        10\n",
            "5        6         105        20\n",
            "6        7         102         1 \n",
            "\n",
            "Inner Join:\n",
            "    sale_id  product_id  quantity product_name     category  price\n",
            "0        1         101         2       Laptop  Electronics   1000\n",
            "1        2         102         3        Phone  Electronics    600\n",
            "2        3         103         5       Tablet  Electronics    300\n",
            "3        4         101         1       Laptop  Electronics   1000\n",
            "4        5         104        10   Headphones  Accessories    100\n",
            "5        6         105        20      Charger  Accessories     50\n",
            "6        7         102         1        Phone  Electronics    600 \n",
            "\n",
            "Outer Join:\n",
            "    sale_id  product_id  quantity product_name     category  price\n",
            "0        1         101         2       Laptop  Electronics   1000\n",
            "1        4         101         1       Laptop  Electronics   1000\n",
            "2        2         102         3        Phone  Electronics    600\n",
            "3        7         102         1        Phone  Electronics    600\n",
            "4        3         103         5       Tablet  Electronics    300\n",
            "5        5         104        10   Headphones  Accessories    100\n",
            "6        6         105        20      Charger  Accessories     50 \n",
            "\n",
            "Product-wise Sales:\n",
            "   product_name  total_quantity  total_revenue\n",
            "0      Charger              20           1000\n",
            "1   Headphones              10           1000\n",
            "2       Laptop               3           3000\n",
            "3        Phone               4           2400\n",
            "4       Tablet               5           1500 \n",
            "\n",
            "Category-wise Revenue:\n",
            "       category  revenue\n",
            "0  Accessories     2000\n",
            "1  Electronics     6900 \n",
            "\n",
            "Total Revenue: 8900\n",
            "Average Price: 521.4285714285714\n",
            "Best-Selling Category: Electronics with Revenue 6900\n"
          ]
        }
      ],
      "source": [
        "\n",
        "import pandas as pd\n",
        "\n",
        "\n",
        "products = pd.DataFrame({\n",
        "    \"product_id\": [101, 102, 103, 104, 105],\n",
        "    \"product_name\": [\"Laptop\", \"Phone\", \"Tablet\", \"Headphones\", \"Charger\"],\n",
        "    \"category\": [\"Electronics\", \"Electronics\", \"Electronics\", \"Accessories\", \"Accessories\"],\n",
        "    \"price\": [1000, 600, 300, 100, 50]\n",
        "})\n",
        "\n",
        "print(\"Products Dataset:\\n\", products, \"\\n\")\n",
        "\n",
        "\n",
        "sales = pd.DataFrame({\n",
        "    \"sale_id\": [1, 2, 3, 4, 5, 6, 7],\n",
        "    \"product_id\": [101, 102, 103, 101, 104, 105, 102],\n",
        "    \"quantity\": [2, 3, 5, 1, 10, 20, 1]\n",
        "})\n",
        "\n",
        "print(\"Sales Dataset:\\n\", sales, \"\\n\")\n",
        "\n",
        "\n",
        "inner_merged = pd.merge(sales, products, on=\"product_id\", how=\"inner\")\n",
        "outer_merged = pd.merge(sales, products, on=\"product_id\", how=\"outer\")\n",
        "\n",
        "print(\"Inner Join:\\n\", inner_merged, \"\\n\")\n",
        "print(\"Outer Join:\\n\", outer_merged, \"\\n\")\n",
        "\n",
        "\n",
        "inner_merged[\"revenue\"] = inner_merged[\"quantity\"] * inner_merged[\"price\"]\n",
        "\n",
        "total_revenue = inner_merged[\"revenue\"].sum()\n",
        "\n",
        "avg_price = inner_merged[\"price\"].mean()\n",
        "\n",
        "product_sales = inner_merged.groupby(\"product_name\").agg(\n",
        "    total_quantity=(\"quantity\", \"sum\"),\n",
        "    total_revenue=(\"revenue\", \"sum\")\n",
        ").reset_index()\n",
        "\n",
        "category_sales = inner_merged.groupby(\"category\")[\"revenue\"].sum().reset_index()\n",
        "\n",
        "best_category = category_sales.loc[category_sales[\"revenue\"].idxmax()]\n",
        "\n",
        "print(\"Product-wise Sales:\\n\", product_sales, \"\\n\")\n",
        "print(\"Category-wise Revenue:\\n\", category_sales, \"\\n\")\n",
        "print(f\"Total Revenue: {total_revenue}\")\n",
        "print(f\"Average Price: {avg_price}\")\n",
        "print(f\"Best-Selling Category: {best_category['category']} with Revenue {best_category['revenue']}\")\n",
        "\n",
        "\n"
      ]
    }
  ]
}