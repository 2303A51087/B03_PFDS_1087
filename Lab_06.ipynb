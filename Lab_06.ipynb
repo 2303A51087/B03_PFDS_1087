{
  "nbformat": 4,
  "nbformat_minor": 0,
  "metadata": {
    "colab": {
      "provenance": [],
      "authorship_tag": "ABX9TyNADzhEWYm5NhpeVtqJ/IeT",
      "include_colab_link": true
    },
    "kernelspec": {
      "name": "python3",
      "display_name": "Python 3"
    },
    "language_info": {
      "name": "python"
    }
  },
  "cells": [
    {
      "cell_type": "markdown",
      "metadata": {
        "id": "view-in-github",
        "colab_type": "text"
      },
      "source": [
        "<a href=\"https://colab.research.google.com/github/2303A51087/B03_PFDS_1087/blob/main/Lab_06.ipynb\" target=\"_parent\"><img src=\"https://colab.research.google.com/assets/colab-badge.svg\" alt=\"Open In Colab\"/></a>"
      ]
    },
    {
      "cell_type": "code",
      "execution_count": 1,
      "metadata": {
        "colab": {
          "base_uri": "https://localhost:8080/"
        },
        "id": "80W76AETxfFx",
        "outputId": "fd1cd32e-4c5b-4963-b236-0684da233c81"
      },
      "outputs": [
        {
          "output_type": "stream",
          "name": "stdout",
          "text": [
            "---- Original Sales Dataset ----\n",
            "   TransactionID Customer     Product  Amount\n",
            "0            101    Alice      Laptop    1200\n",
            "1            102      Bob       Phone     800\n",
            "2            103  Charlie      Tablet     500\n",
            "3            103  Charlie      Tablet     500\n",
            "4            104    David  Headphones     200\n",
            "5            105      Eve     Monitor     300\n",
            "6            105      Eve     Monitor     300\n",
            "7            106    Frank    Keyboard     100\n",
            "\n",
            "Number of duplicate rows: 2\n",
            "\n",
            "---- Cleaned Sales Dataset ----\n",
            "   TransactionID Customer     Product  Amount\n",
            "0            101    Alice      Laptop    1200\n",
            "1            102      Bob       Phone     800\n",
            "2            103  Charlie      Tablet     500\n",
            "4            104    David  Headphones     200\n",
            "5            105      Eve     Monitor     300\n",
            "7            106    Frank    Keyboard     100\n",
            "\n",
            "Number of duplicate rows after cleaning: 0\n",
            "\n",
            "Total rows before cleaning: 8\n",
            "Total rows after cleaning: 6\n"
          ]
        }
      ],
      "source": [
        "import pandas as pd\n",
        "\n",
        "data = {\n",
        "    \"TransactionID\": [101, 102, 103, 103, 104, 105, 105, 106],\n",
        "    \"Customer\": [\"Alice\", \"Bob\", \"Charlie\", \"Charlie\", \"David\", \"Eve\", \"Eve\", \"Frank\"],\n",
        "    \"Product\": [\"Laptop\", \"Phone\", \"Tablet\", \"Tablet\", \"Headphones\", \"Monitor\", \"Monitor\", \"Keyboard\"],\n",
        "    \"Amount\": [1200, 800, 500, 500, 200, 300, 300, 100]\n",
        "}\n",
        "\n",
        "df = pd.DataFrame(data)\n",
        "\n",
        "print(\"---- Original Sales Dataset ----\")\n",
        "print(df)\n",
        "\n",
        "duplicate_count = df.duplicated().sum()\n",
        "print(\"\\nNumber of duplicate rows:\", duplicate_count)\n",
        "\n",
        "\n",
        "df_cleaned = df.drop_duplicates()\n",
        "\n",
        "cleaned_duplicate_count = df_cleaned.duplicated().sum()\n",
        "\n",
        "print(\"\\n---- Cleaned Sales Dataset ----\")\n",
        "print(df_cleaned)\n",
        "\n",
        "print(\"\\nNumber of duplicate rows after cleaning:\", cleaned_duplicate_count)\n",
        "\n",
        "\n",
        "print(\"\\nTotal rows before cleaning:\", len(df))\n",
        "print(\"Total rows after cleaning:\", len(df_cleaned))\n"
      ]
    },
    {
      "cell_type": "code",
      "source": [
        "import pandas as pd\n",
        "\n",
        "data = {\n",
        "    \"EmployeeID\": [1, 2, 3, 4],\n",
        "    \"Name\": [\"Alice\", \"Bob\", \"Charlie\", \"David\"],\n",
        "    \"Salary\": [\"50000\", \"60000\", \"55000\", \"70000\"],  # stored as strings\n",
        "    \"Joining_Date\": [\"2020-01-15\", \"2019-05-20\", \"2021-07-10\", \"2018-03-12\"]  # stored as strings\n",
        "}\n",
        "\n",
        "df = pd.DataFrame(data)\n",
        "\n",
        "print(\"---- Original Employee Dataset ----\")\n",
        "print(df)\n",
        "print(\"\\nData Types Before Conversion:\")\n",
        "print(df.dtypes)\n",
        "\n",
        "df[\"Salary\"] = pd.to_numeric(df[\"Salary\"])\n",
        "\n",
        "df[\"Joining_Date\"] = pd.to_datetime(df[\"Joining_Date\"])\n",
        "\n",
        "print(\"\\n---- Cleaned Employee Dataset ----\")\n",
        "print(df)\n",
        "print(\"\\nData Types After Conversion:\")\n",
        "print(df.dtypes)\n"
      ],
      "metadata": {
        "colab": {
          "base_uri": "https://localhost:8080/"
        },
        "id": "zV0bTO2Vx_t5",
        "outputId": "8911db0c-900c-4f64-a3ef-a8a19d90d304"
      },
      "execution_count": 2,
      "outputs": [
        {
          "output_type": "stream",
          "name": "stdout",
          "text": [
            "---- Original Employee Dataset ----\n",
            "   EmployeeID     Name Salary Joining_Date\n",
            "0           1    Alice  50000   2020-01-15\n",
            "1           2      Bob  60000   2019-05-20\n",
            "2           3  Charlie  55000   2021-07-10\n",
            "3           4    David  70000   2018-03-12\n",
            "\n",
            "Data Types Before Conversion:\n",
            "EmployeeID       int64\n",
            "Name            object\n",
            "Salary          object\n",
            "Joining_Date    object\n",
            "dtype: object\n",
            "\n",
            "---- Cleaned Employee Dataset ----\n",
            "   EmployeeID     Name  Salary Joining_Date\n",
            "0           1    Alice   50000   2020-01-15\n",
            "1           2      Bob   60000   2019-05-20\n",
            "2           3  Charlie   55000   2021-07-10\n",
            "3           4    David   70000   2018-03-12\n",
            "\n",
            "Data Types After Conversion:\n",
            "EmployeeID               int64\n",
            "Name                    object\n",
            "Salary                   int64\n",
            "Joining_Date    datetime64[ns]\n",
            "dtype: object\n"
          ]
        }
      ]
    }
  ]
}