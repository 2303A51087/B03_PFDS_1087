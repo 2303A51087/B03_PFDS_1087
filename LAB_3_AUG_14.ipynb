{
  "nbformat": 4,
  "nbformat_minor": 0,
  "metadata": {
    "colab": {
      "provenance": [],
      "authorship_tag": "ABX9TyOP9drqeKsavlpcc2R50onM",
      "include_colab_link": true
    },
    "kernelspec": {
      "name": "python3",
      "display_name": "Python 3"
    },
    "language_info": {
      "name": "python"
    }
  },
  "cells": [
    {
      "cell_type": "markdown",
      "metadata": {
        "id": "view-in-github",
        "colab_type": "text"
      },
      "source": [
        "<a href=\"https://colab.research.google.com/github/2303A51087/B03_PFDS_1087/blob/main/LAB_3_AUG_14.ipynb\" target=\"_parent\"><img src=\"https://colab.research.google.com/assets/colab-badge.svg\" alt=\"Open In Colab\"/></a>"
      ]
    },
    {
      "cell_type": "code",
      "execution_count": 29,
      "metadata": {
        "colab": {
          "base_uri": "https://localhost:8080/"
        },
        "id": "nXXdTZFR1sYG",
        "outputId": "874bdde7-741f-4e58-bc39-1fd9b0ace98a"
      },
      "outputs": [
        {
          "output_type": "stream",
          "name": "stdout",
          "text": [
            "Matrix 1\n",
            " [[3 4]\n",
            " [7 4]]\n",
            "Matrix 2\n",
            " [[13  4]\n",
            " [43  7]]\n",
            "Addition Result\n",
            " [[16  8]\n",
            " [50 11]]\n",
            "Subtraction Result\n",
            " [[-10   0]\n",
            " [-36  -3]]\n"
          ]
        }
      ],
      "source": [
        "import numpy as np\n",
        "A=[[3,4],[7,4]]\n",
        "B=[[13,4],[43,7]]\n",
        "C=np.array(A)\n",
        "D=np.array(B)\n",
        "print(\"Matrix 1\\n\",C)\n",
        "print(\"Matrix 2\\n\",D)\n",
        "\n",
        "Add = np.add(A,B)\n",
        "\n",
        "print(\"Addition Result\\n\",Add)\n",
        "\n",
        "Sub= np.subtract(A,B)\n",
        "\n",
        "print(\"Subtraction Result\\n\",Sub)"
      ]
    },
    {
      "cell_type": "code",
      "source": [
        "import numpy as np\n",
        "M=[[3,4,5],[7,4,8],[34,6,4]]\n",
        "N=[[13,4,8],[43,7,1],[23,87,5]]\n",
        "P=np.array(M)\n",
        "Q=np.array(N)\n",
        "print(\"Matrix 1\\n\",P)\n",
        "print(\"Matrix 2\\n\",Q)\n",
        "\n",
        "Add = np.add(M,N)\n",
        "\n",
        "print(\"Addition Result\\n\",Add)\n",
        "\n",
        "Sub= np.subtract(M,N)\n",
        "\n",
        "print(\"Subtraction Result\\n\",Sub)"
      ],
      "metadata": {
        "colab": {
          "base_uri": "https://localhost:8080/"
        },
        "id": "nArUmOYc7RHy",
        "outputId": "2bfe0dd1-d297-45f1-9b19-3dc78e79bd2b"
      },
      "execution_count": 32,
      "outputs": [
        {
          "output_type": "stream",
          "name": "stdout",
          "text": [
            "Matrix 1\n",
            " [[ 3  4  5]\n",
            " [ 7  4  8]\n",
            " [34  6  4]]\n",
            "Matrix 2\n",
            " [[13  4  8]\n",
            " [43  7  1]\n",
            " [23 87  5]]\n",
            "Addition Result\n",
            " [[16  8 13]\n",
            " [50 11  9]\n",
            " [57 93  9]]\n",
            "Subtraction Result\n",
            " [[-10   0  -3]\n",
            " [-36  -3   7]\n",
            " [ 11 -81  -1]]\n"
          ]
        }
      ]
    }
  ]
}