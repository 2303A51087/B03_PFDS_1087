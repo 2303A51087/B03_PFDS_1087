{
  "nbformat": 4,
  "nbformat_minor": 0,
  "metadata": {
    "colab": {
      "provenance": [],
      "authorship_tag": "ABX9TyPnMdn2U+p+LHrU5y3/YKrb",
      "include_colab_link": true
    },
    "kernelspec": {
      "name": "python3",
      "display_name": "Python 3"
    },
    "language_info": {
      "name": "python"
    }
  },
  "cells": [
    {
      "cell_type": "markdown",
      "metadata": {
        "id": "view-in-github",
        "colab_type": "text"
      },
      "source": [
        "<a href=\"https://colab.research.google.com/github/2303A51087/B03_PFDS_1087/blob/main/LAB_3.ipynb\" target=\"_parent\"><img src=\"https://colab.research.google.com/assets/colab-badge.svg\" alt=\"Open In Colab\"/></a>"
      ]
    },
    {
      "cell_type": "code",
      "execution_count": 13,
      "metadata": {
        "id": "p8uDOh0sq3qP"
      },
      "outputs": [],
      "source": [
        "import csv\n",
        "\n",
        "with open(\"students .csv\",\"w\",newline=\"\") as f:\n",
        "   writer=csv.writer(f)\n",
        "   writer.writerow([\"Name\",\"Marks\"])\n",
        "   writer.writerow([\"abhi\",90])\n",
        "   writer.writerow([\"Bob\",85])"
      ]
    },
    {
      "cell_type": "code",
      "source": [
        "with open(\"students .csv\",\"r\",newline=\"\") as f:\n",
        "   for i in f:\n",
        "      print(i)"
      ],
      "metadata": {
        "colab": {
          "base_uri": "https://localhost:8080/"
        },
        "id": "_-Q1UTl1tEAK",
        "outputId": "024b3080-3cfe-49ae-e73e-1d5de5d0ff5b"
      },
      "execution_count": 14,
      "outputs": [
        {
          "output_type": "stream",
          "name": "stdout",
          "text": [
            "Name,Marks\r\n",
            "\n",
            "abhi,90\r\n",
            "\n",
            "Bob,85\r\n",
            "\n"
          ]
        }
      ]
    },
    {
      "cell_type": "code",
      "source": [
        "file =open(\"example.txt\",\"w\")\n",
        "\n",
        "file.write(\"Hello,Btech Students ! \\n\")\n",
        "file.write(\"This is file handling in Python. \\n\")\n",
        "file.write(\"SR University\")\n",
        "\n",
        "file.close()\n",
        "\n",
        "print(\"Data Written Successfully !\")"
      ],
      "metadata": {
        "colab": {
          "base_uri": "https://localhost:8080/"
        },
        "id": "luw5mlW6tb3P",
        "outputId": "672b26fd-9e65-4fdc-8575-4bbced99e1c2"
      },
      "execution_count": 15,
      "outputs": [
        {
          "output_type": "stream",
          "name": "stdout",
          "text": [
            "Data Written Successfully !\n"
          ]
        }
      ]
    },
    {
      "cell_type": "code",
      "source": [
        "file=open(\"example.txt\",\"r\")\n",
        "abhi=file.read()\n",
        "print(\"File Content:\\n\",abhi)\n",
        "file.close()"
      ],
      "metadata": {
        "colab": {
          "base_uri": "https://localhost:8080/"
        },
        "id": "eFIqwGADuhU9",
        "outputId": "a3ec8a01-f661-4eff-c4e9-00579604fae2"
      },
      "execution_count": 17,
      "outputs": [
        {
          "output_type": "stream",
          "name": "stdout",
          "text": [
            "File Content:\n",
            " Hello,Btech Students ! \n",
            "This is file handling in Python. \n",
            "SR University\n"
          ]
        }
      ]
    }
  ]
}